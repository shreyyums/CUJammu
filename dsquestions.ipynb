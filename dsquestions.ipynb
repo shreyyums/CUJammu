{
 "cells": [
  {
   "cell_type": "code",
   "execution_count": 2,
   "id": "3278bd8d",
   "metadata": {},
   "outputs": [],
   "source": [
    "import numpy as np\n",
    "import pandas as pd"
   ]
  },
  {
   "cell_type": "markdown",
   "id": "29fa8fd3",
   "metadata": {},
   "source": [
    "Create a ID array of 9 elements using numpy module and reshape it into 2D array of size 3X3?"
   ]
  },
  {
   "cell_type": "code",
   "execution_count": 7,
   "id": "9fee7fc0",
   "metadata": {},
   "outputs": [
    {
     "name": "stdout",
     "output_type": "stream",
     "text": [
      "Original 1D array:\n",
      " [1 2 3 4 5 6 7 8 9]\n",
      "Reshaped 2D array:\n",
      " [[1 2 3]\n",
      " [4 5 6]\n",
      " [7 8 9]]\n"
     ]
    }
   ],
   "source": [
    "id_array = np.arange(1, 10)\n",
    "reshaped_array = id_array.reshape(3, 3)\n",
    "print(\"Original 1D array:\\n\",id_array)\n",
    "print(\"Reshaped 2D array:\\n\",reshaped_array)\n"
   ]
  },
  {
   "cell_type": "markdown",
   "id": "15e4d6d4",
   "metadata": {},
   "source": [
    "Print the output of the following code:"
   ]
  },
  {
   "cell_type": "code",
   "execution_count": 1,
   "id": "54f3a0f4",
   "metadata": {},
   "outputs": [
    {
     "name": "stdout",
     "output_type": "stream",
     "text": [
      "[0, 2, 4, 6, 8]\n"
     ]
    }
   ],
   "source": [
    "list3=[x for x in range(10) if x % 2 == 0]\n",
    "print(list3)"
   ]
  },
  {
   "cell_type": "markdown",
   "id": "c577787a",
   "metadata": {},
   "source": [
    "Given the string text=\"PythonProgramming\". Perform string slicing to extract specific substrings according to the following instructions:\n",
    "    a) Slice the string to obtain the first 6 characters.\n",
    "    b) Extract a substring that includes the characters from index 6 to index 13.\n",
    "    c) Slice the last 5 characters from the string.\n",
    "    d) Create a new string by slicing and concatenating the first 4 characters and the last 3 characters."
   ]
  },
  {
   "cell_type": "code",
   "execution_count": 10,
   "id": "3e44200f",
   "metadata": {},
   "outputs": [
    {
     "name": "stdout",
     "output_type": "stream",
     "text": [
      "a) First 6 characters: Python\n",
      "b) Characters from index 6 to 13: Programm\n",
      "c) Last 5 characters: mming\n",
      "d) Concatenated string: Pything\n"
     ]
    }
   ],
   "source": [
    "string = \"PythonProgramming\"\n",
    "stra = string[:6]\n",
    "strb = string[6:14]\n",
    "strc = string[-5:]\n",
    "strd = string[:4] + string[-3:]\n",
    "\n",
    "print(\"a) First 6 characters:\", stra)\n",
    "print(\"b) Characters from index 6 to 13:\", strb)\n",
    "print(\"c) Last 5 characters:\", strc)\n",
    "print(\"d) Concatenated string:\", strd)\n"
   ]
  },
  {
   "cell_type": "markdown",
   "id": "e734faa3",
   "metadata": {},
   "source": [
    "Write a python program to generate two DataFrames, namely, d1 and d2. Construct d1 utilizing a two dimensional list, and create d2 using a dictionary?"
   ]
  },
  {
   "cell_type": "code",
   "execution_count": 11,
   "id": "eaa46368",
   "metadata": {},
   "outputs": [
    {
     "name": "stdout",
     "output_type": "stream",
     "text": [
      "a) First 6 characters: Python\n",
      "b) Characters from index 6 to 13: Programm\n",
      "c) Last 5 characters: mming\n",
      "d) Concatenated string: Pything\n"
     ]
    }
   ],
   "source": [
    "import pandas as pd\n",
    "data_list = [\n",
    "    [1, 'Alice', 25],\n",
    "    [2, 'Bob', 30],\n",
    "    [3, 'Charlie', 35],\n",
    "    [4, 'David', 40],\n",
    "    [5, 'Eve', 45]\n",
    "]\n",
    "columns = ['ID', 'Name', 'Age']\n",
    "d1 = pd.DataFrame(data_list, columns=columns)\n",
    "data_dict = {\n",
    "    'ID': [101, 102, 103, 104, 105],\n",
    "    'Name': ['John', 'Kate', 'Michael', 'Sophia', 'William'],\n",
    "    'Age': [22, 27, 33, 38, 42]\n",
    "}\n",
    "d2 = pd.DataFrame(data_dict)\n",
    "print(\"DataFrame d1:\")\n",
    "print(d1)\n",
    "print(\"\\nDataFrame d2:\")\n",
    "print(d2)"
   ]
  },
  {
   "cell_type": "markdown",
   "id": "44e7a19a",
   "metadata": {},
   "source": [
    "Write a pyhton code to discuss in detail about the variance, standard deviation, covariance, and correlation?"
   ]
  },
  {
   "cell_type": "code",
   "execution_count": 2,
   "id": "b1cee22b",
   "metadata": {},
   "outputs": [
    {
     "name": "stdout",
     "output_type": "stream",
     "text": [
      "Variance of x: 2.0\n",
      "Variance of y: 2.0\n",
      "Standard Deviation of x: 1.4142135623730951\n",
      "Standard Deviation of y: 1.4142135623730951\n",
      "Covariance between x and y: 2.5\n",
      "Correlation between x and y: 0.9999999999999999\n"
     ]
    }
   ],
   "source": [
    "x = np.array([1, 2, 3, 4, 5])\n",
    "y = np.array([5, 6, 7, 8, 9])\n",
    "variance_x = np.var(x)\n",
    "variance_y = np.var(y)\n",
    "print(\"Variance of x:\", variance_x)\n",
    "print(\"Variance of y:\", variance_y)\n",
    "std_deviation_x = np.std(x)\n",
    "std_deviation_y = np.std(y)\n",
    "print(\"Standard Deviation of x:\", std_deviation_x)\n",
    "print(\"Standard Deviation of y:\", std_deviation_y)\n",
    "covariance = np.cov(x, y)[0][1]\n",
    "print(\"Covariance between x and y:\", covariance)\n",
    "correlation = np.corrcoef(x, y)[0][1]\n",
    "print(\"Correlation between x and y:\", correlation)"
   ]
  },
  {
   "cell_type": "markdown",
   "id": "d7426030",
   "metadata": {},
   "source": [
    "Write a pyhton program to explain the concepts of standardization and normalization?"
   ]
  },
  {
   "cell_type": "code",
   "execution_count": 1,
   "id": "b1e58469",
   "metadata": {},
   "outputs": [
    {
     "name": "stdout",
     "output_type": "stream",
     "text": [
      "Standardized data (z-score normalization): [-1.41421356 -0.70710678  0.          0.70710678  1.41421356]\n",
      "Normalized data (min-max scaling): [0.   0.25 0.5  0.75 1.  ]\n"
     ]
    }
   ],
   "source": [
    "import numpy as np\n",
    "data = np.array([1, 2, 3, 4, 5])\n",
    "def standardize(data):\n",
    "    mean = np.mean(data)\n",
    "    std_dev = np.std(data)\n",
    "    standardized_data = (data - mean) / std_dev\n",
    "    return standardized_data\n",
    "standardized_data = standardize(data)\n",
    "print(\"Standardized data (z-score normalization):\", standardized_data)\n",
    "def normalize(data):\n",
    "    min_val = np.min(data)\n",
    "    max_val = np.max(data)\n",
    "    normalized_data = (data - min_val) / (max_val - min_val)\n",
    "    return normalized_data\n",
    "normalized_data = normalize(data)\n",
    "print(\"Normalized data (min-max scaling):\", normalized_data)"
   ]
  },
  {
   "cell_type": "markdown",
   "id": "6e9dd288",
   "metadata": {},
   "source": [
    "Write a pyhton program illustrating use of box plot."
   ]
  },
  {
   "cell_type": "code",
   "execution_count": 4,
   "id": "e53e595a",
   "metadata": {},
   "outputs": [
    {
     "data": {
      "image/png": "[encoded data removed]",
      "text/plain": [
       "<Figure size 800x600 with 1 Axes>"
      ]
     },
     "metadata": {},
     "output_type": "display_data"
    }
   ],
   "source": [
    "import matplotlib.pyplot as plt\n",
    "import seaborn as sns\n",
    "np.random.seed(0)\n",
    "data = np.random.normal(loc=0, scale=1, size=100)\n",
    "plt.figure(figsize=(8, 6))\n",
    "sns.boxplot(data=data)\n",
    "plt.title('Box Plot of Random Data')\n",
    "plt.xlabel('Data')\n",
    "plt.ylabel('Values')\n",
    "plt.show()"
   ]
  },
  {
   "cell_type": "code",
   "execution_count": null,
   "id": "ad682356",
   "metadata": {},
   "outputs": [],
   "source": []
  }
 ],
 "metadata": {
  "kernelspec": {
   "display_name": "Python 3 (ipykernel)",
   "language": "python",
   "name": "python3"
  },
  "language_info": {
   "codemirror_mode": {
    "name": "ipython",
    "version": 3
   },
   "file_extension": ".py",
   "mimetype": "text/x-python",
   "name": "python",
   "nbconvert_exporter": "python",
   "pygments_lexer": "ipython3",
   "version": "3.11.5"
  }
 },
 "nbformat": 4,
 "nbformat_minor": 5
}
